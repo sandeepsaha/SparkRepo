{
  "nbformat": 4,
  "nbformat_minor": 0,
  "metadata": {
    "colab": {
      "name": "Pascal_VOC_data_extraction_notebook_object_localization_v2.ipynb",
      "provenance": [],
      "private_outputs": true,
      "collapsed_sections": [],
      "toc_visible": true,
      "include_colab_link": true
    },
    "kernelspec": {
      "name": "python3",
      "display_name": "Python 3"
    },
    "accelerator": "GPU"
  },
  "cells": [
    {
      "cell_type": "markdown",
      "metadata": {
        "id": "view-in-github",
        "colab_type": "text"
      },
      "source": [
        "<a href=\"https://colab.research.google.com/github/sandeepsaha/SparkRepo/blob/master/Pascal_VOC_data_extraction_notebook_object_localization_v2.ipynb\" target=\"_parent\"><img src=\"https://colab.research.google.com/assets/colab-badge.svg\" alt=\"Open In Colab\"/></a>"
      ]
    },
    {
      "cell_type": "markdown",
      "metadata": {
        "id": "C_Jy_hvtEB8S",
        "colab_type": "text"
      },
      "source": [
        "# Single object localization: Explore PASCAL-VOC dataset"
      ]
    },
    {
      "cell_type": "markdown",
      "metadata": {
        "id": "9C1aXlTwVL0g",
        "colab_type": "text"
      },
      "source": [
        "## Table of Contents\n",
        "\n",
        "1. [Downloading the dataset](#download)\n",
        "2. [Unzip the dataset](#unzip)\n",
        "3. [Explore PASCAL VOC 2007 dataset ](#import)\n",
        "4. [Functions for drawing bounding boxes and displaying images](#nm)\n",
        "5. [Convert the list of largest bounding box coordinates into a csv](#build)"
      ]
    },
    {
      "cell_type": "markdown",
      "metadata": {
        "id": "rO9vgZw9VSAR",
        "colab_type": "text"
      },
      "source": [
        "## 1. Downloading the PASCAL-VOC dataset  <a id='download'>"
      ]
    },
    {
      "cell_type": "code",
      "metadata": {
        "id": "9iw7uWaMVUz3",
        "colab_type": "code",
        "colab": {}
      },
      "source": [
        "!wget -q https://www.dropbox.com/s/63j3myz3hobc8cu/PASCAL_VOC.zip"
      ],
      "execution_count": 0,
      "outputs": []
    },
    {
      "cell_type": "code",
      "metadata": {
        "id": "kemZuFQz2d-i",
        "colab_type": "code",
        "colab": {}
      },
      "source": [
        "!wget -q http://pjreddie.com/media/files/VOCtrainval_06-Nov-2007.tar"
      ],
      "execution_count": 0,
      "outputs": []
    },
    {
      "cell_type": "code",
      "metadata": {
        "id": "2HjpFtGj2eNC",
        "colab_type": "code",
        "colab": {}
      },
      "source": [
        "!wget -q http://pjreddie.com/media/files/VOCtest_06-Nov-2007.tar"
      ],
      "execution_count": 0,
      "outputs": []
    },
    {
      "cell_type": "markdown",
      "metadata": {
        "id": "m-Fbu3LoVmh6",
        "colab_type": "text"
      },
      "source": [
        "## 2. Unzip the dataset   <a id='unzip'>"
      ]
    },
    {
      "cell_type": "code",
      "metadata": {
        "colab_type": "code",
        "id": "Wr3IaTAGSbZJ",
        "colab": {}
      },
      "source": [
        "!unzip PASCAL_VOC.zip > /dev/null; echo \" done.\""
      ],
      "execution_count": 0,
      "outputs": []
    },
    {
      "cell_type": "code",
      "metadata": {
        "id": "cQl3YBAr25vq",
        "colab_type": "code",
        "colab": {}
      },
      "source": [
        "!tar -xvf VOCtrainval_06-Nov-2007.tar > /dev/null; echo \" done.\""
      ],
      "execution_count": 0,
      "outputs": []
    },
    {
      "cell_type": "code",
      "metadata": {
        "id": "xC4LlDRA254a",
        "colab_type": "code",
        "colab": {}
      },
      "source": [
        "!tar -xvf VOCtest_06-Nov-2007.tar > /dev/null; echo \" done.\""
      ],
      "execution_count": 0,
      "outputs": []
    },
    {
      "cell_type": "code",
      "metadata": {
        "id": "AIlFeZBeNlIv",
        "colab_type": "code",
        "colab": {}
      },
      "source": [
        "!ls -l"
      ],
      "execution_count": 0,
      "outputs": []
    },
    {
      "cell_type": "code",
      "metadata": {
        "id": "rvE_nbEg3wlM",
        "colab_type": "code",
        "colab": {}
      },
      "source": [
        "mv -t PASCAL_VOC VOCdevkit"
      ],
      "execution_count": 0,
      "outputs": []
    },
    {
      "cell_type": "code",
      "metadata": {
        "id": "lKznMhdoVrXS",
        "colab_type": "code",
        "colab": {}
      },
      "source": [
        "# Explore the file structure\n",
        "\n",
        "!ls -R | grep \":$\" | sed -e 's/:$//' -e 's/[^-][^\\/]*\\//--/g' -e 's/^/   /' -e 's/-/|/'"
      ],
      "execution_count": 0,
      "outputs": []
    },
    {
      "cell_type": "code",
      "metadata": {
        "id": "R99YuRRIjM02",
        "colab_type": "code",
        "colab": {}
      },
      "source": [
        "#Import packages\n",
        "\n",
        "import matplotlib\n",
        "import tensorflow as tf\n",
        "from matplotlib import patheffects"
      ],
      "execution_count": 0,
      "outputs": []
    },
    {
      "cell_type": "markdown",
      "metadata": {
        "id": "wFwbqPCx1qYE",
        "colab_type": "text"
      },
      "source": [
        "## Explore PASCAL-VOC 2007 dataset"
      ]
    },
    {
      "cell_type": "code",
      "metadata": {
        "id": "U4B4JKfBVzxj",
        "colab_type": "code",
        "colab": {}
      },
      "source": [
        "# find directories in PASCAL_VOC and combines paths\n",
        "\n",
        "import pathlib\n",
        "PATH = pathlib.Path('PASCAL_VOC')\n",
        "list(PATH.iterdir())"
      ],
      "execution_count": 0,
      "outputs": []
    },
    {
      "cell_type": "code",
      "metadata": {
        "id": "VWNogJFfWGYx",
        "colab_type": "code",
        "colab": {}
      },
      "source": [
        "# Load train json files \n",
        "\n",
        "import json\n",
        "\n",
        "trn_j = json.load((PATH/'pascal_train2007.json').open())\n",
        "trn_j.keys()"
      ],
      "execution_count": 0,
      "outputs": []
    },
    {
      "cell_type": "code",
      "metadata": {
        "id": "QinWFZa_oMbd",
        "colab_type": "code",
        "colab": {}
      },
      "source": [
        "# Let's assign alias to 'images','annotations', 'categories'\n",
        "\n",
        "IMAGES,ANNOTATIONS,CATEGORIES = ['images', 'annotations', 'categories']"
      ],
      "execution_count": 0,
      "outputs": []
    },
    {
      "cell_type": "markdown",
      "metadata": {
        "id": "Mx8dBG3uoTPM",
        "colab_type": "text"
      },
      "source": [
        "#### What does the json file contain?\n",
        "\n",
        "The loaded json data file has the keys **images,type,annoations and categories.** \n",
        "\n",
        "The ''images'' key value contains a list of **key:value pairs**, each of which contain:\n",
        "\n",
        "* filename of the image\n",
        "* height of the image\n",
        "* id of the image \n",
        "* width of the image"
      ]
    },
    {
      "cell_type": "markdown",
      "metadata": {
        "id": "lfvVQ9OyN0xd",
        "colab_type": "text"
      },
      "source": [
        ""
      ]
    },
    {
      "cell_type": "code",
      "metadata": {
        "id": "muvZZ_shC3GO",
        "colab_type": "code",
        "colab": {}
      },
      "source": [
        "# Details of 'images' key\n",
        "\n",
        "trn_j[IMAGES][:5]"
      ],
      "execution_count": 0,
      "outputs": []
    },
    {
      "cell_type": "code",
      "metadata": {
        "id": "IGWR-y3OPpn9",
        "colab_type": "code",
        "colab": {}
      },
      "source": [
        "from google.colab import drive\n",
        "drive.mount('/content/drive')"
      ],
      "execution_count": 0,
      "outputs": []
    },
    {
      "cell_type": "code",
      "metadata": {
        "id": "aZqoTbbFodS_",
        "colab_type": "code",
        "colab": {}
      },
      "source": [
        "# Details of 'annotations' key\n",
        "\n",
        "trn_j[ANNOTATIONS][:5]"
      ],
      "execution_count": 0,
      "outputs": []
    },
    {
      "cell_type": "markdown",
      "metadata": {
        "id": "LXOd5lEmEq-V",
        "colab_type": "text"
      },
      "source": [
        "**Observation:** The annotations key consists of rectangular bounding box coordinates as 'bbox' and also has its category mentioned as 'category_id'"
      ]
    },
    {
      "cell_type": "code",
      "metadata": {
        "id": "YEGO4lRGzBXd",
        "colab_type": "code",
        "colab": {}
      },
      "source": [
        "# Details of 'categories' key\n",
        "\n",
        "trn_j[CATEGORIES][:]"
      ],
      "execution_count": 0,
      "outputs": []
    },
    {
      "cell_type": "markdown",
      "metadata": {
        "id": "zqZ0U84HEba0",
        "colab_type": "text"
      },
      "source": [
        "**Observation:** PASCAL VOC 2007 dataset consists of 20 categories "
      ]
    },
    {
      "cell_type": "code",
      "metadata": {
        "id": "nm7Fc9kjzVl1",
        "colab_type": "code",
        "colab": {}
      },
      "source": [
        "#List categories in cats dictionary variable with ID and corresponding category name\n",
        "#List image file names in trn_fns dictionary variable with filename id\n",
        "#Extract filename ids in trn_ids list variable\n",
        " \n",
        "FILE_NAME,ID,IMG_ID,CAT_ID,BBOX = 'file_name','id','image_id','category_id','bbox'\n",
        "\n",
        "cats = dict((o[ID], o['name']) for o in trn_j[CATEGORIES])\n",
        "trn_fns = dict((o[ID], o[FILE_NAME]) for o in trn_j[IMAGES])\n",
        "trn_ids = [o[ID] for o in trn_j[IMAGES]]"
      ],
      "execution_count": 0,
      "outputs": []
    },
    {
      "cell_type": "code",
      "metadata": {
        "id": "TiSPPxQ4dzKL",
        "colab_type": "code",
        "colab": {}
      },
      "source": [
        "print(cats)\n",
        "print(trn_fns)\n",
        "print(trn_ids[:5])"
      ],
      "execution_count": 0,
      "outputs": []
    },
    {
      "cell_type": "code",
      "metadata": {
        "id": "ux2n1wfj1L4w",
        "colab_type": "code",
        "colab": {}
      },
      "source": [
        "#Let's find out where the JPEG Imges are\n",
        "list((PATH/'VOCdevkit'/'VOC2007').iterdir())"
      ],
      "execution_count": 0,
      "outputs": []
    },
    {
      "cell_type": "code",
      "metadata": {
        "id": "BfXaQ97lRqSL",
        "colab_type": "code",
        "colab": {}
      },
      "source": [
        "!ls -l PASCAL_VOC/VOCdevkit/VOC2007/Annotations"
      ],
      "execution_count": 0,
      "outputs": []
    },
    {
      "cell_type": "code",
      "metadata": {
        "id": "a00RHILBRwP8",
        "colab_type": "code",
        "colab": {}
      },
      "source": [
        "!cat PASCAL_VOC/VOCdevkit/VOC2007/Annotations/000001.xml"
      ],
      "execution_count": 0,
      "outputs": []
    },
    {
      "cell_type": "code",
      "metadata": {
        "id": "yLzPX7br1Ue2",
        "colab_type": "code",
        "colab": {}
      },
      "source": [
        "#Assign JPEG folder path to JPEGS\n",
        "JPEGS = 'VOCdevkit/VOC2007/JPEGImages'"
      ],
      "execution_count": 0,
      "outputs": []
    },
    {
      "cell_type": "code",
      "metadata": {
        "id": "wTYNdTg04OUM",
        "colab_type": "code",
        "colab": {}
      },
      "source": [
        "#Let's have a look at the images in the folder\n",
        "IMG_PATH = PATH/JPEGS\n",
        "list(IMG_PATH.iterdir())[:5]"
      ],
      "execution_count": 0,
      "outputs": []
    },
    {
      "cell_type": "code",
      "metadata": {
        "id": "1uWwYQVI4RDo",
        "colab_type": "code",
        "colab": {}
      },
      "source": [
        "#Extracting id of image\n",
        "im0_d = trn_j[IMAGES][10]\n",
        "im0_d[FILE_NAME],im0_d[ID]"
      ],
      "execution_count": 0,
      "outputs": []
    },
    {
      "cell_type": "code",
      "metadata": {
        "id": "CDlbNasM4Wfl",
        "colab_type": "code",
        "colab": {}
      },
      "source": [
        "# Assign bounding box coordinates annotations of images to trn_anno\n",
        "# The coordinates are defined as top left (x1,y1) corrdinate and bottom right (x2,y2) coordinate instead of (x,y,w,h)\n",
        "\n",
        "import collections\n",
        "import numpy as np \n",
        "\n",
        "trn_anno = collections.defaultdict(lambda:[])\n",
        "for o in trn_j[ANNOTATIONS]:\n",
        "    if not o['ignore']:\n",
        "        bb = o[BBOX]\n",
        "        bb = np.array([bb[1], bb[0], bb[3]+bb[1]-1, bb[2]+bb[0]-1])\n",
        "        trn_anno[o[IMG_ID]].append((bb,o[CAT_ID]))\n",
        "        \n",
        "trn_anno"
      ],
      "execution_count": 0,
      "outputs": []
    },
    {
      "cell_type": "markdown",
      "metadata": {
        "id": "CQCMR9XKiiic",
        "colab_type": "text"
      },
      "source": [
        "**Observation:** Some images have multiple objects which is why there are multiple arrays representing each of them."
      ]
    },
    {
      "cell_type": "code",
      "metadata": {
        "id": "LyKz1CC64ea-",
        "colab_type": "code",
        "colab": {}
      },
      "source": [
        "#\n",
        "im_a = trn_anno[im0_d[ID]]; im_a"
      ],
      "execution_count": 0,
      "outputs": []
    },
    {
      "cell_type": "code",
      "metadata": {
        "id": "N4PpeDwe904d",
        "colab_type": "code",
        "colab": {}
      },
      "source": [
        "im0_a = im_a[0]; im0_a"
      ],
      "execution_count": 0,
      "outputs": []
    },
    {
      "cell_type": "code",
      "metadata": {
        "id": "yBHVzpZy4tEZ",
        "colab_type": "code",
        "colab": {}
      },
      "source": [
        "cats[8]"
      ],
      "execution_count": 0,
      "outputs": []
    },
    {
      "cell_type": "markdown",
      "metadata": {
        "id": "ZIBvXHXF1jG5",
        "colab_type": "text"
      },
      "source": [
        "## Functions for drawing bounding boxes and displaying images"
      ]
    },
    {
      "cell_type": "code",
      "metadata": {
        "id": "p9YokZ-u7cuW",
        "colab_type": "code",
        "colab": {}
      },
      "source": [
        "# Function for Displaying image \n",
        "def show_img(im, figsize=None, ax=None):\n",
        "    if not ax: fig,ax = matplotlib.pyplot.subplots(figsize=figsize)\n",
        "    ax.imshow(im)\n",
        "    ax.get_xaxis().set_visible(False)\n",
        "    ax.get_yaxis().set_visible(False)\n",
        "    return ax"
      ],
      "execution_count": 0,
      "outputs": []
    },
    {
      "cell_type": "code",
      "metadata": {
        "id": "Hhkki_Nd7i0s",
        "colab_type": "code",
        "colab": {}
      },
      "source": [
        "# Function for drawing outline on image\n",
        "def draw_outline(o, lw):\n",
        "    o.set_path_effects([patheffects.Stroke(\n",
        "        linewidth=lw, foreground='black'), patheffects.Normal()])\n",
        "    \n"
      ],
      "execution_count": 0,
      "outputs": []
    },
    {
      "cell_type": "code",
      "metadata": {
        "id": "Y_uFkoqD7lxr",
        "colab_type": "code",
        "colab": {}
      },
      "source": [
        "# Function for drawing bounding box\n",
        "def draw_rect(ax, b):\n",
        "    patch = ax.add_patch(matplotlib.patches.Rectangle(b[:2], *b[-2:], fill=False, edgecolor='white', lw=2))\n",
        "    draw_outline(patch, 4)"
      ],
      "execution_count": 0,
      "outputs": []
    },
    {
      "cell_type": "code",
      "metadata": {
        "id": "qL2HtKSt7pDW",
        "colab_type": "code",
        "colab": {}
      },
      "source": [
        "# Function writing text over bounding box\n",
        "def draw_text(ax, xy, txt, sz=14):\n",
        "    text = ax.text(*xy, txt,\n",
        "        verticalalignment='top', color='white', fontsize=sz, weight='bold')\n",
        "    draw_outline(text, 1)\n"
      ],
      "execution_count": 0,
      "outputs": []
    },
    {
      "cell_type": "code",
      "metadata": {
        "id": "bTgzSTqv9W1u",
        "colab_type": "code",
        "colab": {}
      },
      "source": [
        "#Function for fixing height and width of the bounding box\n",
        "def bb_hw(a): return np.array([a[1],a[0],a[3]-a[1],a[2]-a[0]])"
      ],
      "execution_count": 0,
      "outputs": []
    },
    {
      "cell_type": "code",
      "metadata": {
        "id": "x7GCgedF7wuz",
        "colab_type": "code",
        "colab": {}
      },
      "source": [
        "#Function for displaying image\n",
        "\n",
        "def draw_im(im, ann):\n",
        "    ax = show_img(im, figsize=(16,8))\n",
        "    for b,c in ann: \n",
        "        b = bb_hw(b)\n",
        "        draw_rect(ax, b)\n",
        "        draw_text(ax, b[:2], cats[c], sz=16)"
      ],
      "execution_count": 0,
      "outputs": []
    },
    {
      "cell_type": "code",
      "metadata": {
        "id": "ABahJmBZ_Af2",
        "colab_type": "code",
        "colab": {}
      },
      "source": [
        "# returns bounding box values and the object class for image with id i\n",
        "def draw_idx(i):\n",
        "    im_a = trn_anno[i]\n",
        "    print(im_a)\n",
        "    im = tf.keras.preprocessing.image.load_img(IMG_PATH/trn_fns[i])\n",
        "    print(im.size)\n",
        "    draw_im(im, im_a)"
      ],
      "execution_count": 0,
      "outputs": []
    },
    {
      "cell_type": "code",
      "metadata": {
        "id": "XQxbmXSF-WQX",
        "colab_type": "code",
        "colab": {}
      },
      "source": [
        "# This functions draws bounding box over objects in an image\n",
        "draw_idx(133)"
      ],
      "execution_count": 0,
      "outputs": []
    },
    {
      "cell_type": "code",
      "metadata": {
        "id": "YZPMGU0e_EGB",
        "colab_type": "code",
        "colab": {}
      },
      "source": [
        "# The function returns the largest bounding box in a given image using area\n",
        "def get_lrg(b):\n",
        "    \n",
        "    b = sorted(b, key=lambda x: np.prod(x[0][-2:]-x[0][:2]), reverse=True)\n",
        "    return b"
      ],
      "execution_count": 0,
      "outputs": []
    },
    {
      "cell_type": "code",
      "metadata": {
        "id": "mbonrsngB4pJ",
        "colab_type": "code",
        "colab": {}
      },
      "source": [
        "#Assign the largest image bounding box coordinates to trn_lrg_anno\n",
        "trn_lrg_anno = {a: get_lrg(b) for a,b in trn_anno.items()}"
      ],
      "execution_count": 0,
      "outputs": []
    },
    {
      "cell_type": "code",
      "metadata": {
        "id": "S-utDWKYCA-y",
        "colab_type": "code",
        "colab": {}
      },
      "source": [
        "# We now try to draw the largest bounding box in each of the images given image_id\n",
        "image_id = 133\n",
        "b,c = trn_lrg_anno[image_id][0]       #[0] since sorting will create largest value at 0th position\n",
        "\n",
        "b = bb_hw(b)\n",
        "\n",
        "ax = show_img(tf.keras.preprocessing.image.load_img(IMG_PATH/trn_fns[image_id]), figsize=(5,10))\n",
        "draw_rect(ax, b)\n",
        "draw_text(ax, b[:2], cats[c], sz=16)"
      ],
      "execution_count": 0,
      "outputs": []
    },
    {
      "cell_type": "markdown",
      "metadata": {
        "id": "pPQBFqIc2VLM",
        "colab_type": "text"
      },
      "source": [
        "## Convert the list of largest bounding box coordinates into a csv"
      ]
    },
    {
      "cell_type": "code",
      "metadata": {
        "id": "zJBmzNLEOLaC",
        "colab_type": "code",
        "colab": {}
      },
      "source": [
        "(PATH/'tmp').mkdir(exist_ok=True)\n",
        "CSV = PATH/'tmp/lrg.csv'\n"
      ],
      "execution_count": 0,
      "outputs": []
    },
    {
      "cell_type": "code",
      "metadata": {
        "id": "4pwMIrxVUUWA",
        "colab_type": "code",
        "colab": {}
      },
      "source": [
        "# 1.category id, bounding box coordinates(keep it as one column or four columns)\n",
        "import pandas\n",
        "df = pandas.DataFrame({'fn': [trn_fns[o] for o in trn_ids],\n",
        "    'cat': [cats[trn_lrg_anno[o][0][1]] for o in trn_ids],\n",
        "    'cat_id':[trn_lrg_anno[o][0][1] for o in trn_ids],\n",
        "    'bb_coords':[(trn_lrg_anno[o][0][0]) for o in trn_ids] },columns=['fn','cat','cat_id','bb_coords'])\n",
        "df.to_csv(CSV, index=False)\n"
      ],
      "execution_count": 0,
      "outputs": []
    },
    {
      "cell_type": "code",
      "metadata": {
        "id": "5iuKIIlKUekf",
        "colab_type": "code",
        "colab": {}
      },
      "source": [
        "df.head()"
      ],
      "execution_count": 0,
      "outputs": []
    },
    {
      "cell_type": "code",
      "metadata": {
        "id": "gmJgF2kWjl8E",
        "colab_type": "code",
        "colab": {}
      },
      "source": [
        "df.to_pickle(CSV)"
      ],
      "execution_count": 0,
      "outputs": []
    },
    {
      "cell_type": "code",
      "metadata": {
        "id": "sCN2PTeRTg2f",
        "colab_type": "code",
        "colab": {}
      },
      "source": [
        "CSV"
      ],
      "execution_count": 0,
      "outputs": []
    },
    {
      "cell_type": "code",
      "metadata": {
        "id": "UT8uJMGnTZF0",
        "colab_type": "code",
        "colab": {}
      },
      "source": [
        "!ls -l PASCAL_VOC/tmp"
      ],
      "execution_count": 0,
      "outputs": []
    }
  ]
}